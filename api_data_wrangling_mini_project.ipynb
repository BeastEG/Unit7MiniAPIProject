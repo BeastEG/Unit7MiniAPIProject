{
 "cells": [
  {
   "cell_type": "markdown",
   "metadata": {},
   "source": [
    "This exercise will require you to pull some data from https://data.nasdaq.com/ (formerly Quandl API)."
   ]
  },
  {
   "cell_type": "markdown",
   "metadata": {},
   "source": [
    "As a first step, you will need to register a free account on the https://data.nasdaq.com/ website."
   ]
  },
  {
   "cell_type": "markdown",
   "metadata": {},
   "source": [
    "After you register, you will be provided with a unique API key, that you should store:\n",
    "\n",
    "*Note*: Use a `.env` file and put your key in there and `python-dotenv` to access it in this notebook. \n",
    "\n",
    "The code below uses a key that was used when generating this project but has since been deleted. Never submit your keys to source control. There is a `.env-example` file in this repository to illusrtate what you need. Copy that to a file called `.env` and use your own api key in that `.env` file. Make sure you also have a `.gitignore` file with a line for `.env` added to it. \n",
    "\n",
    "The standard Python gitignore is [here](https://github.com/github/gitignore/blob/master/Python.gitignore) you can just copy that. "
   ]
  },
  {
   "cell_type": "code",
   "execution_count": 1,
   "metadata": {},
   "outputs": [],
   "source": [
    "# get api key from your .env file\n",
    "import os\n",
    "#from dotenv import load_dotenv\n",
    "from dotenv import load_dotenv\n",
    "\n",
    "load_dotenv()\n",
    "API_KEY = os.getenv('NASDAQ_API_KEY')\n",
    "\n",
    "#---Original---\n",
    "# get api key from your .env file\n",
    "##import os\n",
    "##from dotenv import load_dotenv\n",
    "\n",
    "##load_dotenv()\n",
    "##API_KEY = os.getenv('NASDAQ_API_KEY')\n",
    "\n",
    "##print(API_KEY)"
   ]
  },
  {
   "cell_type": "markdown",
   "metadata": {},
   "source": [
    "Nasdaq Data has a large number of data sources, but, unfortunately, most of them require a Premium subscription. Still, there are also a good number of free datasets."
   ]
  },
  {
   "cell_type": "markdown",
   "metadata": {},
   "source": [
    "For this mini project, we will focus on equities data from the Frankfurt Stock Exhange (FSE), which is available for free. We'll try and analyze the stock prices of a company called Carl Zeiss Meditec, which manufactures tools for eye examinations, as well as medical lasers for laser eye surgery: https://www.zeiss.com/meditec/int/home.html. The company is listed under the stock ticker AFX_X."
   ]
  },
  {
   "cell_type": "markdown",
   "metadata": {},
   "source": [
    "You can find the detailed Nasdaq Data API instructions here: https://docs.data.nasdaq.com/docs/in-depth-usage"
   ]
  },
  {
   "cell_type": "markdown",
   "metadata": {},
   "source": [
    "While there is a dedicated Python package for connecting to the Nasdaq API, we would prefer that you use the *requests* package, which can be easily downloaded using *pip* or *conda*. You can find the documentation for the package here: http://docs.python-requests.org/en/master/ "
   ]
  },
  {
   "cell_type": "markdown",
   "metadata": {},
   "source": [
    "Finally, apart from the *requests* package, you are encouraged to not use any third party Python packages, such as *pandas*, and instead focus on what's available in the Python Standard Library (the *collections* module might come in handy: https://pymotw.com/3/collections/).\n",
    "Also, since you won't have access to DataFrames, you are encouraged to us Python's native data structures - preferably dictionaries, though some questions can also be answered using lists.\n",
    "You can read more on these data structures here: https://docs.python.org/3/tutorial/datastructures.html"
   ]
  },
  {
   "cell_type": "markdown",
   "metadata": {},
   "source": [
    "Keep in mind that the JSON responses you will be getting from the API map almost one-to-one to Python's dictionaries. Unfortunately, they can be very nested, so make sure you read up on indexing dictionaries in the documentation provided above."
   ]
  },
  {
   "cell_type": "code",
   "execution_count": 2,
   "metadata": {},
   "outputs": [],
   "source": [
    "# First, import the relevant modules\n",
    "import requests\n",
    "import collections\n",
    "import json\n",
    "\n",
    "#---Original----\n",
    "# First, import the relevant modules"
   ]
  },
  {
   "cell_type": "markdown",
   "metadata": {},
   "source": [
    "Note: API's can change a bit with each version, for this exercise it is reccomended to use the nasdaq api at `https://data.nasdaq.com/api/v3/`. This is the same api as what used to be quandl so `https://www.quandl.com/api/v3/` should work too.\n",
    "\n",
    "Hint: We are looking for the `AFX_X` data on the `datasets/FSE/` dataset."
   ]
  },
  {
   "cell_type": "code",
   "execution_count": 3,
   "metadata": {},
   "outputs": [],
   "source": [
    "# Now, call the Nasdaq API and pull out a small sample of the data (only one day) to get a glimpse\n",
    "# into the JSON structure that will be returned\n",
    "\n",
    "url = str('https://data.nasdaq.com/api/v3/datasets/FSE/AFX_X.json?='+API_KEY)\n",
    "r = requests.get(url)\n",
    "json_data = r.json()\n",
    "#for key, value in json_data.items():\n",
    "    #print(key + ':', value)\n",
    "\n",
    "#---Original---\n",
    "# Now, call the Nasdaq API and pull out a small sample of the data (only one day) to get a glimpse\n",
    "# into the JSON structure that will be returned"
   ]
  },
  {
   "cell_type": "code",
   "execution_count": 4,
   "metadata": {},
   "outputs": [],
   "source": [
    "#print(json_data)"
   ]
  },
  {
   "cell_type": "code",
   "execution_count": 5,
   "metadata": {},
   "outputs": [],
   "source": [
    "# Inspect the JSON structure of the object you created, and take note of how nested it is,\n",
    "# as well as the overall structure"
   ]
  },
  {
   "cell_type": "markdown",
   "metadata": {},
   "source": [
    "These are your tasks for this mini project:\n",
    "\n",
    "1. Collect data from the Franfurt Stock Exchange, for the ticker AFX_X, for the whole year 2017 (keep in mind that the date format is YYYY-MM-DD).\n",
    "2. Convert the returned JSON object into a Python dictionary.\n",
    "3. Calculate what the highest and lowest opening prices were for the stock in this period.\n",
    "4. What was the largest change in any one day (based on High and Low price)?\n",
    "5. What was the largest change between any two days (based on Closing Price)?\n",
    "6. What was the average daily trading volume during this year?\n",
    "7. (Optional) What was the median trading volume during this year. (Note: you may need to implement your own function for calculating the median.)"
   ]
  },
  {
   "cell_type": "code",
   "execution_count": 6,
   "metadata": {},
   "outputs": [],
   "source": [
    "#1 - Collect data from the FSE for ticker AFX_X for 2017\n",
    "\n",
    "url = str('https://data.nasdaq.com/api/v3/datasets/FSE/AFX_X.json?start_date=2007-01-01&end_date=2007-12-31&api_key='+API_KEY)\n",
    "r = requests.get(url)\n",
    "json_data = r.json()\n",
    "#for key, value in json_data.items():\n",
    "    #print(key + ':', value)\n",
    "\n",
    "#---Original---\n",
    "# Now, call the Nasdaq API and pull out a small sample of the data (only one day) to get a glimpse\n",
    "# into the JSON structure that will be returned"
   ]
  },
  {
   "cell_type": "code",
   "execution_count": 7,
   "metadata": {},
   "outputs": [
    {
     "name": "stdout",
     "output_type": "stream",
     "text": [
      "<class 'dict'>\n"
     ]
    }
   ],
   "source": [
    "#2 - Convert the returned JSON into a Python Dictionary\n",
    "print(type(json_data))\n",
    "\n",
    "#Seems to already be a dictionary!"
   ]
  },
  {
   "cell_type": "code",
   "execution_count": 8,
   "metadata": {},
   "outputs": [
    {
     "name": "stdout",
     "output_type": "stream",
     "text": [
      "{'dataset': {'id': 10095370, 'dataset_code': 'AFX_X', 'database_code': 'FSE', 'name': 'Carl Zeiss Meditec (AFX_X)', 'description': 'Stock Prices for Carl Zeiss Meditec (2020-11-02) from the Frankfurt Stock Exchange.<br><br>Trading System: Xetra<br><br>ISIN: DE0005313704', 'refreshed_at': '2020-12-01T14:48:09.907Z', 'newest_available_date': '2020-12-01', 'oldest_available_date': '2000-06-07', 'column_names': ['Date', 'Open', 'High', 'Low', 'Close', 'Change', 'Traded Volume', 'Turnover', 'Last Price of the Day', 'Daily Traded Units', 'Daily Turnover'], 'frequency': 'daily', 'type': 'Time Series', 'premium': False, 'limit': None, 'transform': None, 'column_index': None, 'start_date': '2007-01-01', 'end_date': '2007-12-31', 'data': [['2007-12-31', None, None, None, 11.95, None, 0.0, None, None, None, 0.0], ['2007-12-28', 11.85, 11.96, 11.77, 11.95, None, 41231.0, 489233.0, None, None, None], ['2007-12-27', 12.2, 12.2, 11.86, 11.94, None, 115425.0, 1386513.0, None, None, None], ['2007-12-26', None, None, None, 12.13, None, 0.0, None, None, None, 0.0], ['2007-12-25', None, None, None, 12.13, None, 0.0, None, None, None, 0.0], ['2007-12-24', None, None, None, 12.13, None, 0.0, None, None, None, 0.0], ['2007-12-21', 11.7, 12.15, 11.61, 12.13, None, 387584.0, 4644410.0, None, None, None], ['2007-12-20', 11.32, 11.8, 11.32, 11.64, None, 188074.0, 2180325.0, None, None, None], ['2007-12-19', 11.7, 11.7, 11.18, 11.28, None, 239004.0, 2750622.0, None, None, None], ['2007-12-18', 11.73, 11.8, 11.33, 11.69, None, 329538.0, 3836851.0, None, None, None], ['2007-12-17', 12.21, 12.21, 11.75, 11.79, None, 334614.0, 3973100.0, None, None, None], ['2007-12-14', 12.64, 12.77, 11.65, 12.21, None, 646499.0, 7863624.0, None, None, None], ['2007-12-13', 12.81, 12.88, 12.33, 12.47, None, 1104337.0, 13964328.0, None, None, None], ['2007-12-12', 14.01, 14.25, 13.49, 13.49, None, 319203.0, 4424491.0, None, None, None], ['2007-12-11', 13.84, 14.0, 13.71, 13.89, None, 255438.0, 3548132.0, None, None, None], ['2007-12-10', 14.29, 14.29, 13.59, 13.7, None, 95119.0, 1323321.0, None, None, None], ['2007-12-07', 13.63, 14.3, 13.63, 14.3, None, 47573.0, 668169.0, None, None, None], ['2007-12-06', 13.96, 14.05, 13.61, 13.61, None, 33957.0, 470928.0, None, None, None], ['2007-12-05', 13.95, 14.06, 13.76, 13.8, None, 39173.0, 545679.0, None, None, None], ['2007-12-04', 14.55, 14.55, 13.83, 14.07, None, 47294.0, 666899.0, None, None, None], ['2007-12-03', 13.9, 14.43, 13.9, 14.3, None, 115571.0, 1638854.0, None, None, None], ['2007-11-30', 13.56, 14.29, 13.49, 13.9, None, 182560.0, 2538503.0, None, None, None], ['2007-11-29', 13.19, 13.72, 13.19, 13.59, None, 272646.0, 3686352.0, None, None, None], ['2007-11-28', 13.0, 13.17, 12.95, 13.15, None, 153967.0, 2010891.0, None, None, None], ['2007-11-27', 12.99, 13.0, 12.67, 12.91, None, 318080.0, 4096615.0, None, None, None], ['2007-11-26', 12.75, 13.19, 12.75, 13.03, None, 233738.0, 3040312.0, None, None, None], ['2007-11-23', 12.5, 12.7, 12.4, 12.65, None, 216578.0, 2718357.0, None, None, None], ['2007-11-22', 12.81, 12.81, 12.26, 12.51, None, 184544.0, 2310137.0, None, None, None], ['2007-11-21', 13.06, 13.1, 12.69, 12.87, None, 86855.0, 1118034.0, None, None, None], ['2007-11-20', 13.42, 13.8, 12.58, 13.11, None, 213593.0, 2799022.0, None, None, None], ['2007-11-19', 14.15, 14.3, 13.26, 13.32, None, 59162.0, 821203.0, None, None, None], ['2007-11-16', 14.2, 14.38, 14.1, 14.17, None, 98744.0, 1407885.0, None, None, None], ['2007-11-15', 14.6, 14.6, 14.15, 14.21, None, 118945.0, 1711538.0, None, None, None], ['2007-11-14', 14.6, 14.9, 14.51, 14.51, None, 71494.0, 1047970.0, None, None, None], ['2007-11-13', 15.0, 15.0, 14.5, 14.5, None, 73951.0, 1085359.0, None, None, None], ['2007-11-12', 14.8, 14.99, 14.7, 14.87, None, 52524.0, 778896.0, None, None, None], ['2007-11-09', 15.1, 15.1, 14.75, 14.92, None, 67963.0, 1017149.0, None, None, None], ['2007-11-08', 15.2, 15.2, 14.75, 15.11, None, 46020.0, 692677.0, None, None, None], ['2007-11-07', 15.4, 15.62, 15.25, 15.36, None, 51945.0, 802587.0, None, None, None], ['2007-11-06', 15.65, 15.65, 15.41, 15.41, None, 25819.0, 400836.0, None, None, None], ['2007-11-05', 15.07, 15.69, 15.0, 15.61, None, 105881.0, 1640173.0, None, None, None], ['2007-11-02', 14.9, 15.06, 14.84, 14.99, None, 54148.0, 811074.0, None, None, None], ['2007-11-01', 15.0, 15.0, 14.75, 14.89, None, 38407.0, 572630.0, None, None, None], ['2007-10-31', 14.85, 15.03, 14.84, 14.99, None, 117523.0, 1760014.0, None, None, None], ['2007-10-30', 14.9, 15.25, 14.88, 15.0, None, 94596.0, 1427830.0, None, None, None], ['2007-10-29', 15.05, 15.18, 14.8, 14.92, None, 48959.0, 732782.0, None, None, None], ['2007-10-26', 15.19, 15.3, 15.05, 15.2, None, 35098.0, 532621.0, None, None, None], ['2007-10-25', 14.97, 15.15, 14.88, 15.0, None, 49757.0, 747201.0, None, None, None], ['2007-10-24', 15.0, 15.09, 14.85, 14.85, None, 13447.0, 201772.0, None, None, None], ['2007-10-23', 15.25, 15.38, 15.0, 15.0, None, 30654.0, 465643.0, None, None, None], ['2007-10-22', 15.43, 15.45, 15.08, 15.23, None, 47188.0, 720291.0, None, None, None], ['2007-10-19', 15.44, 15.7, 15.36, 15.61, None, 103043.0, 1604757.0, None, None, None], ['2007-10-18', 15.65, 15.95, 15.45, 15.55, None, 98509.0, 1549807.0, None, None, None], ['2007-10-17', 15.06, 15.76, 15.06, 15.65, None, 89756.0, 1378419.0, None, None, None], ['2007-10-16', 15.24, 15.28, 15.03, 15.2, None, 90032.0, 1363857.0, None, None, None], ['2007-10-15', 15.13, 15.23, 15.0, 15.18, None, 37393.0, 565023.0, None, None, None], ['2007-10-12', 14.85, 15.05, 14.8, 14.99, None, 101328.0, 1512741.0, None, None, None], ['2007-10-11', 14.75, 14.9, 14.71, 14.82, None, 49573.0, 735773.0, None, None, None], ['2007-10-10', 15.09, 15.09, 14.66, 14.8, None, 147850.0, 2196986.0, None, None, None], ['2007-10-09', 15.1, 15.23, 14.9, 15.08, None, 100347.0, 1508602.0, None, None, None], ['2007-10-08', 15.2, 15.39, 15.09, 15.12, None, 101278.0, 1536986.0, None, None, None], ['2007-10-05', 15.4, 15.4, 15.09, 15.15, None, 135251.0, 2045856.0, None, None, None], ['2007-10-04', 16.0, 16.0, 15.0, 15.25, None, 183202.0, 2806723.0, None, None, None], ['2007-10-03', 16.13, 16.16, 15.76, 16.0, None, 51165.0, 817778.0, None, None, None], ['2007-10-02', 16.08, 16.15, 15.91, 15.98, None, 92916.0, 1489415.0, None, None, None], ['2007-10-01', 15.5, 16.14, 15.3, 15.88, None, 162826.0, 2561788.0, None, None, None], ['2007-09-28', 15.11, 15.48, 15.11, 15.43, None, 88433.0, 1354710.0, None, None, None], ['2007-09-27', 14.95, 15.2, 14.9, 15.2, None, 174404.0, 2624163.0, None, None, None], ['2007-09-26', 14.81, 15.15, 14.8, 15.0, None, 160698.0, 2415844.0, None, None, None], ['2007-09-25', 14.5, 14.76, 14.5, 14.7, None, 71472.0, 1041207.0, None, None, None], ['2007-09-24', 14.2, 14.62, 14.2, 14.57, None, 88470.0, 1282725.0, None, None, None], ['2007-09-21', 13.7, 14.11, 13.44, 14.11, None, 125425.0, 1717638.0, None, None, None], ['2007-09-20', 13.8, 13.93, 13.66, 13.66, None, 56965.0, 788100.0, None, None, None], ['2007-09-19', 13.39, 14.0, 13.39, 13.81, None, 184090.0, 2537981.0, None, None, None], ['2007-09-18', 13.21, 13.25, 13.07, 13.2, None, 41646.0, 548672.0, None, None, None], ['2007-09-17', 13.6, 13.72, 13.1, 13.13, None, 122789.0, 1637680.0, None, None, None], ['2007-09-14', 13.75, 13.75, 13.6, 13.65, None, 37156.0, 507917.0, None, None, None], ['2007-09-13', 13.95, 14.06, 13.75, 13.75, None, 37038.0, 513210.0, None, None, None], ['2007-09-12', 13.8, 14.06, 13.8, 13.85, None, 67193.0, 935124.0, None, None, None], ['2007-09-11', 13.84, 13.92, 13.71, 13.74, None, 72693.0, 1006407.0, None, None, None], ['2007-09-10', 14.2, 14.2, 13.62, 13.75, None, 75927.0, 1054710.0, None, None, None], ['2007-09-07', 14.28, 14.52, 14.18, 14.25, None, 37805.0, 542556.0, None, None, None], ['2007-09-06', 14.5, 14.5, 14.25, 14.43, None, 21602.0, 309977.0, None, None, None], ['2007-09-05', 14.63, 14.65, 14.33, 14.4, None, 55167.0, 800205.0, None, None, None], ['2007-09-04', 14.95, 14.95, 14.46, 14.6, None, 88137.0, 1293539.0, None, None, None], ['2007-09-03', 14.0, 14.9, 14.0, 14.85, None, 135236.0, 1957303.0, None, None, None], ['2007-08-31', 13.8, 14.02, 13.78, 13.94, None, 36885.0, 512409.0, None, None, None], ['2007-08-30', 13.42, 13.91, 13.42, 13.8, None, 45665.0, 624144.0, None, None, None], ['2007-08-29', 13.39, 13.39, 13.04, 13.32, None, 48444.0, 640163.0, None, None, None], ['2007-08-28', 13.6, 13.6, 13.4, 13.49, None, 37524.0, 505707.0, None, None, None], ['2007-08-27', 13.45, 13.66, 13.35, 13.53, None, 53538.0, 722525.0, None, None, None], ['2007-08-24', 13.55, 13.69, 13.25, 13.39, None, 94458.0, 1270289.0, None, None, None], ['2007-08-23', 14.0, 14.19, 13.56, 13.57, None, 129921.0, 1792183.0, None, None, None], ['2007-08-22', 13.5, 14.0, 13.44, 13.88, None, 93265.0, 1281724.0, None, None, None], ['2007-08-21', 13.99, 13.99, 13.4, 13.5, None, 86427.0, 1184109.0, None, None, None], ['2007-08-20', 14.35, 14.42, 13.84, 13.85, None, 51906.0, 731518.0, None, None, None], ['2007-08-17', 13.21, 15.16, 13.1, 14.2, None, 224680.0, 3127049.0, None, None, None], ['2007-08-16', 14.04, 14.04, 13.34, 13.63, None, 174427.0, 2364795.0, None, None, None], ['2007-08-15', 14.24, 14.25, 14.1, 14.2, None, 23589.0, 334624.0, None, None, None], ['2007-08-14', 14.46, 14.6, 14.15, 14.2, None, 39978.0, 575890.0, None, None, None], ['2007-08-13', 14.31, 14.9, 14.31, 14.57, None, 60050.0, 878731.0, None, None, None], ['2007-08-10', 14.66, 14.68, 14.01, 14.44, None, 97934.0, 1399387.0, None, None, None], ['2007-08-09', 15.0, 15.0, 14.67, 14.81, None, 49295.0, 728415.0, None, None, None], ['2007-08-08', 14.95, 15.02, 14.63, 15.0, None, 79232.0, 1176439.0, None, None, None], ['2007-08-07', 15.34, 15.45, 14.72, 14.95, None, 62181.0, 935990.0, None, None, None], ['2007-08-06', 15.45, 15.5, 15.22, 15.29, None, 21916.0, 337419.0, None, None, None], ['2007-08-03', 15.65, 15.75, 15.38, 15.46, None, 36594.0, 571341.0, None, None, None], ['2007-08-02', 15.25, 15.7, 15.21, 15.6, None, 47348.0, 733156.0, None, None, None], ['2007-08-01', 15.5, 15.5, 15.22, 15.24, None, 13138.0, 200591.0, None, None, None], ['2007-07-31', 15.6, 15.65, 15.36, 15.6, None, 23928.0, 371492.0, None, None, None], ['2007-07-30', 15.1, 15.65, 15.0, 15.59, None, 47496.0, 728557.0, None, None, None], ['2007-07-27', 14.7, 15.32, 14.37, 15.29, None, 94080.0, 1406308.0, None, None, None], ['2007-07-26', 15.43, 15.43, 14.72, 14.73, None, 95748.0, 1428757.0, None, None, None], ['2007-07-25', 15.45, 15.73, 15.12, 15.42, None, 61737.0, 952911.0, None, None, None], ['2007-07-24', 15.5, 15.55, 15.3, 15.3, None, 31697.0, 489572.0, None, None, None], ['2007-07-23', 15.68, 15.73, 15.5, 15.5, None, 49520.0, 770794.0, None, None, None], ['2007-07-20', 15.8, 15.98, 15.54, 15.6, None, 33689.0, 529117.0, None, None, None], ['2007-07-19', 15.8, 16.0, 15.6, 15.86, None, 54840.0, 870131.0, None, None, None], ['2007-07-18', 15.8, 15.81, 15.54, 15.71, None, 28437.0, 446087.0, None, None, None], ['2007-07-17', 15.71, 16.0, 15.69, 16.0, None, 60160.0, 951321.0, None, None, None], ['2007-07-16', 16.0, 16.0, 15.7, 15.85, None, 87048.0, 1378714.0, None, None, None], ['2007-07-13', 16.2, 16.21, 15.75, 15.9, None, 98350.0, 1563907.0, None, None, None], ['2007-07-12', 16.2, 16.22, 15.91, 16.15, None, 36277.0, 582748.0, None, None, None], ['2007-07-11', 15.9, 16.24, 15.78, 16.21, None, 37516.0, 600314.0, None, None, None], ['2007-07-10', 16.3, 16.54, 15.95, 16.0, None, 68266.0, 1105767.0, None, None, None], ['2007-07-09', 16.57, 16.71, 16.4, 16.42, None, 60978.0, 1006974.0, None, None, None], ['2007-07-06', 15.85, 16.7, 15.85, 16.52, None, 61348.0, 996749.0, None, None, None], ['2007-07-05', 15.91, 15.95, 15.85, 15.85, None, 19968.0, 317477.0, None, None, None], ['2007-07-04', 15.9, 15.9, 15.68, 15.9, None, 64182.0, 1014682.0, None, None, None], ['2007-07-03', 15.97, 16.0, 15.81, 15.89, None, 47155.0, 750490.0, None, None, None], ['2007-07-02', 15.91, 16.07, 15.75, 15.94, None, 32036.0, 510343.0, None, None, None], ['2007-06-29', 16.01, 16.07, 15.66, 15.91, None, 58817.0, 931718.0, None, None, None], ['2007-06-28', 15.7, 16.09, 15.7, 16.09, None, 51673.0, 824135.0, None, None, None], ['2007-06-27', 15.6, 15.86, 15.51, 15.57, None, 34818.0, 545939.0, None, None, None], ['2007-06-26', 15.86, 15.86, 15.55, 15.68, None, 34702.0, 544692.0, None, None, None], ['2007-06-25', 16.19, 16.19, 15.75, 15.86, None, 48981.0, 775457.0, None, None, None], ['2007-06-22', 16.28, 16.28, 16.07, 16.2, None, 30799.0, 497703.0, None, None, None], ['2007-06-21', 16.0, 16.27, 15.87, 16.22, None, 45090.0, 723077.0, None, None, None], ['2007-06-20', 16.35, 16.48, 16.01, 16.01, None, 57700.0, 935102.0, None, None, None], ['2007-06-19', 16.2, 16.45, 16.2, 16.25, None, 15848.0, 258228.0, None, None, None], ['2007-06-18', 16.0, 16.45, 16.0, 16.15, None, 55585.0, 906320.0, None, None, None], ['2007-06-15', 15.85, 16.31, 15.85, 16.0, None, 228705.0, 3689444.0, None, None, None], ['2007-06-14', 15.66, 15.92, 15.66, 15.87, None, 113245.0, 1788302.0, None, None, None], ['2007-06-13', 15.45, 15.49, 15.24, 15.45, None, 164293.0, 2529320.0, None, None, None], ['2007-06-12', 15.98, 15.98, 15.27, 15.4, None, 239280.0, 3733942.0, None, None, None], ['2007-06-11', 16.01, 16.24, 15.85, 15.85, None, 64985.0, 1040406.0, None, None, None], ['2007-06-08', 15.9, 16.19, 15.9, 16.14, None, 139994.0, 2241495.0, None, None, None], ['2007-06-07', 16.11, 16.2, 15.9, 15.94, None, 91054.0, 1456947.0, None, None, None], ['2007-06-06', 16.91, 16.91, 15.81, 16.1, None, 207900.0, 3395591.0, None, None, None], ['2007-06-05', 16.6, 16.91, 16.51, 16.91, None, 64428.0, 1073710.0, None, None, None], ['2007-06-04', 16.75, 16.75, 16.4, 16.56, None, 83842.0, 1392463.0, None, None, None], ['2007-06-01', 16.84, 16.99, 16.59, 16.74, None, 78963.0, 1324961.0, None, None, None], ['2007-05-31', 16.44, 17.0, 16.41, 17.0, None, 108092.0, 1813613.0, None, None, None], ['2007-05-30', 16.7, 16.8, 16.25, 16.3, None, 84150.0, 1394004.0, None, None, None], ['2007-05-29', 16.9, 16.91, 16.6, 16.8, None, 116496.0, 1953817.0, None, None, None], ['2007-05-28', None, None, None, 17.04, None, 0.0, None, None, None, 0.0], ['2007-05-25', 17.06, 17.17, 17.0, 17.04, None, 48873.0, 833717.0, None, None, None], ['2007-05-24', 17.05, 17.22, 17.03, 17.06, None, 28702.0, 490395.0, None, None, None], ['2007-05-23', 17.18, 17.29, 17.05, 17.07, None, 32488.0, 557288.0, None, None, None], ['2007-05-22', 17.25, 17.32, 17.03, 17.21, None, 61046.0, 1048784.0, None, None, None], ['2007-05-21', 17.5, 17.5, 17.09, 17.09, None, 93113.0, 1612343.0, None, None, None], ['2007-05-18', 17.3, 17.63, 17.23, 17.63, None, 27108.0, 473840.0, None, None, None], ['2007-05-17', 17.3, 17.48, 17.26, 17.32, None, 27789.0, 482080.0, None, None, None], ['2007-05-16', 17.4, 17.5, 17.3, 17.3, None, 12658.0, 220112.0, None, None, None], ['2007-05-15', 17.4, 17.52, 17.03, 17.52, None, 68568.0, 1184869.0, None, None, None], ['2007-05-14', 17.52, 17.61, 17.4, 17.55, None, 21021.0, 367598.0, None, None, None], ['2007-05-11', 17.41, 17.63, 17.05, 17.62, None, 50870.0, 880159.0, None, None, None], ['2007-05-10', 17.85, 17.9, 17.5, 17.63, None, 72959.0, 1287268.0, None, None, None], ['2007-05-09', 17.76, 17.99, 17.65, 17.99, None, 57082.0, 1020188.0, None, None, None], ['2007-05-08', 17.91, 17.96, 17.17, 17.6, None, 118760.0, 2090223.0, None, None, None], ['2007-05-07', 17.85, 18.05, 17.75, 18.05, None, 30091.0, 539557.0, None, None, None], ['2007-05-04', 17.62, 17.89, 17.55, 17.85, None, 56747.0, 1007735.0, None, None, None], ['2007-05-03', 17.94, 17.98, 17.65, 17.78, None, 49785.0, 884164.0, None, None, None], ['2007-05-02', 18.05, 18.05, 17.8, 18.0, None, 60314.0, 1081055.0, None, None, None], ['2007-05-01', None, None, None, 18.03, None, 0.0, None, None, None, 0.0], ['2007-04-30', 18.29, 18.3, 17.95, 18.03, None, 57788.0, 1044121.0, None, None, None], ['2007-04-27', 18.27, 18.44, 18.07, 18.2, None, 27199.0, 497372.0, None, None, None], ['2007-04-26', 18.1, 18.47, 18.1, 18.44, None, 43937.0, 807816.0, None, None, None], ['2007-04-25', 18.05, 18.21, 17.86, 18.21, None, 71578.0, 1290480.0, None, None, None], ['2007-04-24', 17.82, 18.38, 17.82, 18.05, None, 78224.0, 1408430.0, None, None, None], ['2007-04-23', 18.0, 18.3, 17.9, 17.9, None, 66162.0, 1194696.0, None, None, None], ['2007-04-20', 17.95, 18.11, 17.85, 18.06, None, 66204.0, 1190127.0, None, None, None], ['2007-04-19', 17.9, 18.0, 17.84, 17.95, None, 66005.0, 1182652.0, None, None, None], ['2007-04-18', 18.15, 18.97, 17.95, 18.08, None, 130928.0, 2409373.0, None, None, None], ['2007-04-17', 17.72, 18.3, 17.51, 18.15, None, 101058.0, 1813253.0, None, None, None], ['2007-04-16', 17.7, 18.05, 17.7, 17.87, None, 92069.0, 1648069.0, None, None, None], ['2007-04-13', 17.31, 17.79, 17.27, 17.75, None, 69047.0, 1205608.0, None, None, None], ['2007-04-12', 16.95, 17.78, 16.95, 17.4, None, 121483.0, 2121840.0, None, None, None], ['2007-04-11', 16.81, 16.95, 16.81, 16.92, None, 101238.0, 1709908.0, None, None, None], ['2007-04-10', 16.84, 16.84, 16.71, 16.8, None, 78479.0, 1318478.0, None, None, None], ['2007-04-09', None, None, None, 16.78, None, 0.0, None, None, None, 0.0], ['2007-04-06', None, None, None, 16.78, None, 0.0, None, None, None, 0.0], ['2007-04-05', 16.5, 16.91, 16.5, 16.78, None, 219009.0, 3659987.0, None, None, None], ['2007-04-04', 16.67, 16.67, 16.48, 16.6, None, 136531.0, 2258442.0, None, None, None], ['2007-04-03', 16.43, 16.64, 16.35, 16.63, None, 48925.0, 807903.0, None, None, None], ['2007-04-02', 16.25, 16.54, 16.21, 16.54, None, 92191.0, 1507996.0, None, None, None], ['2007-03-30', 16.52, 16.52, 16.16, 16.25, None, 33575.0, 546635.0, None, None, None], ['2007-03-29', 16.06, 16.5, 16.0, 16.45, None, 43678.0, 712541.0, None, None, None], ['2007-03-28', 16.38, 16.38, 16.05, 16.15, None, 35428.0, 573364.0, None, None, None], ['2007-03-27', 16.39, 16.47, 16.2, 16.3, None, 69237.0, 1131412.0, None, None, None], ['2007-03-26', 16.7, 16.74, 16.07, 16.11, None, 60692.0, 994274.0, None, None, None], ['2007-03-23', 17.04, 17.04, 16.58, 16.65, None, 32390.0, 541675.0, None, None, None], ['2007-03-22', 17.0, 17.24, 16.8, 17.0, None, 70550.0, 1199326.0, None, None, None], ['2007-03-21', 16.86, 17.25, 16.85, 17.0, None, 27954.0, 477937.0, None, None, None], ['2007-03-20', 16.9, 17.0, 16.79, 17.0, None, 32737.0, 554402.0, None, None, None], ['2007-03-19', 16.6, 16.9, 16.6, 16.9, None, 11374.0, 190710.0, None, None, None], ['2007-03-16', 16.97, 16.97, 16.54, 16.72, None, 122729.0, 2039033.0, None, None, None], ['2007-03-15', 17.01, 17.11, 16.61, 16.93, None, 95356.0, 1612200.0, None, None, None], ['2007-03-14', 17.02, 17.02, 16.4, 16.55, None, 136441.0, 2274044.0, None, None, None], ['2007-03-13', 17.9, 17.9, 17.5, 17.5, None, 95917.0, 1685697.0, None, None, None], ['2007-03-12', 17.53, 18.05, 17.53, 17.9, None, 98604.0, 1762850.0, None, None, None], ['2007-03-09', 18.37, 18.37, 17.5, 17.65, None, 97819.0, 1728301.0, None, None, None], ['2007-03-08', 17.65, 18.32, 17.61, 18.3, None, 159773.0, 2875438.0, None, None, None], ['2007-03-07', 17.39, 17.65, 17.26, 17.65, None, 121976.0, 2129530.0, None, None, None], ['2007-03-06', 16.8, 17.5, 16.76, 17.15, None, 292400.0, 4982928.0, None, None, None], ['2007-03-05', 17.0, 17.24, 15.98, 16.5, None, 287862.0, 4757694.0, None, None, None], ['2007-03-02', 17.27, 17.8, 16.89, 17.39, None, 510967.0, 8848395.0, None, None, None], ['2007-03-01', 16.88, 17.15, 16.45, 16.77, None, 157768.0, 2652476.0, None, None, None], ['2007-02-28', 15.92, 17.3, 14.4, 17.3, None, 239790.0, 3814411.0, None, None, None], ['2007-02-27', 17.4, 17.48, 16.61, 16.8, None, 189507.0, 3233968.0, None, None, None], ['2007-02-26', 17.47, 17.69, 17.25, 17.37, None, 45947.0, 799839.0, None, None, None], ['2007-02-23', 17.54, 17.78, 17.52, 17.6, None, 13888.0, 244952.0, None, None, None], ['2007-02-22', 17.6, 17.7, 17.5, 17.54, None, 49945.0, 876972.0, None, None, None], ['2007-02-21', 17.6, 17.7, 17.51, 17.51, None, 28497.0, 500843.0, None, None, None], ['2007-02-20', 17.5, 17.65, 17.5, 17.5, None, 33570.0, 589479.0, None, None, None], ['2007-02-19', 17.42, 17.65, 17.42, 17.55, None, 53311.0, 935523.0, None, None, None], ['2007-02-16', 17.51, 17.57, 17.35, 17.5, None, 101199.0, 1768535.0, None, None, None], ['2007-02-15', 17.4, 17.8, 17.35, 17.59, None, 144066.0, 2538400.0, None, None, None], ['2007-02-14', 17.18, 17.69, 17.18, 17.49, None, 496317.0, 8621032.0, None, None, None], ['2007-02-13', 17.34, 17.4, 16.75, 17.05, None, 111869.0, 1899328.0, None, None, None], ['2007-02-12', 16.9, 17.45, 16.85, 17.25, None, 158923.0, 2702592.0, None, None, None], ['2007-02-09', 16.66, 17.01, 16.66, 17.0, None, 77719.0, 1311505.0, None, None, None], ['2007-02-08', 16.95, 16.95, 16.62, 16.82, None, 71989.0, 1203686.0, None, None, None], ['2007-02-07', 16.75, 16.98, 16.75, 16.98, None, 173164.0, 2910473.0, None, None, None], ['2007-02-06', 16.8, 16.84, 16.62, 16.8, None, 32541.0, 543991.0, None, None, None], ['2007-02-05', 16.6, 16.8, 16.55, 16.7, None, 23970.0, 399154.0, None, None, None], ['2007-02-02', 16.81, 16.9, 16.67, 16.78, None, 63633.0, 1070987.0, None, None, None], ['2007-02-01', 16.8, 16.95, 16.67, 16.95, None, 90793.0, 1526956.0, None, None, None], ['2007-01-31', 16.6, 16.93, 16.56, 16.8, None, 61081.0, 1023057.0, None, None, None], ['2007-01-30', 16.46, 16.69, 16.45, 16.5, None, 40388.0, 668913.0, None, None, None], ['2007-01-29', 16.2, 16.44, 16.14, 16.4, None, 61441.0, 1003635.0, None, None, None], ['2007-01-26', 16.5, 16.7, 16.3, 16.3, None, 46250.0, 761032.0, None, None, None], ['2007-01-25', 16.99, 16.99, 16.72, 16.88, None, 36826.0, 622286.0, None, None, None], ['2007-01-24', 16.6, 17.08, 16.2, 16.91, None, 101306.0, 1684932.0, None, None, None], ['2007-01-23', 16.7, 16.7, 16.4, 16.66, None, 38244.0, 633852.0, None, None, None], ['2007-01-22', 16.21, 16.8, 16.21, 16.67, None, 84352.0, 1401466.0, None, None, None], ['2007-01-19', 16.59, 16.75, 16.15, 16.25, None, 59854.0, 984101.0, None, None, None], ['2007-01-18', 16.67, 16.8, 16.6, 16.75, None, 32214.0, 538691.0, None, None, None], ['2007-01-17', 16.89, 16.95, 16.5, 16.81, None, 57477.0, 962916.0, None, None, None], ['2007-01-16', 16.4, 16.9, 15.75, 16.89, None, 144069.0, 2365601.0, None, None, None], ['2007-01-15', 16.73, 16.85, 16.43, 16.54, None, 68541.0, 1141847.0, None, None, None], ['2007-01-12', 17.0, 17.0, 16.58, 16.83, None, 119917.0, 2004778.0, None, None, None], ['2007-01-11', 16.79, 17.08, 16.79, 17.04, None, 206426.0, 3497526.0, None, None, None], ['2007-01-10', 16.6, 16.79, 16.5, 16.76, None, 121690.0, 2030856.0, None, None, None], ['2007-01-09', 16.24, 16.8, 16.2, 16.78, None, 84469.0, 1393491.0, None, None, None], ['2007-01-08', 16.1, 16.24, 15.96, 16.2, None, 18491.0, 297841.0, None, None, None], ['2007-01-05', 16.0, 16.12, 15.8, 16.1, None, 88627.0, 1410357.0, None, None, None], ['2007-01-04', 16.25, 16.36, 15.91, 16.15, None, 42859.0, 689922.0, None, None, None], ['2007-01-03', 16.5, 16.65, 16.28, 16.33, None, 57386.0, 944194.0, None, None, None], ['2007-01-02', 15.89, 16.4, 15.89, 16.4, None, 74388.0, 1197423.0, None, None, None], ['2007-01-01', None, None, None, 15.8, None, 0.0, None, None, None, 0.0]], 'collapse': None, 'order': None, 'database_id': 6129}}\n"
     ]
    }
   ],
   "source": [
    "#3: Calculate what the highest and lowest opening prices were for the stock in this period\n",
    "\n",
    "#3A: First, look at the data structure, and then each layer seperately\n",
    "print(json_data)\n"
   ]
  },
  {
   "cell_type": "code",
   "execution_count": 9,
   "metadata": {},
   "outputs": [
    {
     "name": "stdout",
     "output_type": "stream",
     "text": [
      "['Date', 'Open', 'High', 'Low', 'Close', 'Change', 'Traded Volume', 'Turnover', 'Last Price of the Day', 'Daily Traded Units', 'Daily Turnover']\n"
     ]
    }
   ],
   "source": [
    "#3B: It would appear that 'dataset' is the initial key that nearly everything is underneath. After that we have a\n",
    "#section called ' column_names' that would appear to give the associated column_name for data.\n",
    "\n",
    "print(json_data['dataset']['column_names'])"
   ]
  },
  {
   "cell_type": "code",
   "execution_count": 10,
   "metadata": {},
   "outputs": [
    {
     "name": "stdout",
     "output_type": "stream",
     "text": [
      "[['2007-12-31', None, None, None, 11.95, None, 0.0, None, None, None, 0.0], ['2007-12-28', 11.85, 11.96, 11.77, 11.95, None, 41231.0, 489233.0, None, None, None], ['2007-12-27', 12.2, 12.2, 11.86, 11.94, None, 115425.0, 1386513.0, None, None, None], ['2007-12-26', None, None, None, 12.13, None, 0.0, None, None, None, 0.0], ['2007-12-25', None, None, None, 12.13, None, 0.0, None, None, None, 0.0], ['2007-12-24', None, None, None, 12.13, None, 0.0, None, None, None, 0.0], ['2007-12-21', 11.7, 12.15, 11.61, 12.13, None, 387584.0, 4644410.0, None, None, None], ['2007-12-20', 11.32, 11.8, 11.32, 11.64, None, 188074.0, 2180325.0, None, None, None], ['2007-12-19', 11.7, 11.7, 11.18, 11.28, None, 239004.0, 2750622.0, None, None, None], ['2007-12-18', 11.73, 11.8, 11.33, 11.69, None, 329538.0, 3836851.0, None, None, None], ['2007-12-17', 12.21, 12.21, 11.75, 11.79, None, 334614.0, 3973100.0, None, None, None], ['2007-12-14', 12.64, 12.77, 11.65, 12.21, None, 646499.0, 7863624.0, None, None, None], ['2007-12-13', 12.81, 12.88, 12.33, 12.47, None, 1104337.0, 13964328.0, None, None, None], ['2007-12-12', 14.01, 14.25, 13.49, 13.49, None, 319203.0, 4424491.0, None, None, None], ['2007-12-11', 13.84, 14.0, 13.71, 13.89, None, 255438.0, 3548132.0, None, None, None], ['2007-12-10', 14.29, 14.29, 13.59, 13.7, None, 95119.0, 1323321.0, None, None, None], ['2007-12-07', 13.63, 14.3, 13.63, 14.3, None, 47573.0, 668169.0, None, None, None], ['2007-12-06', 13.96, 14.05, 13.61, 13.61, None, 33957.0, 470928.0, None, None, None], ['2007-12-05', 13.95, 14.06, 13.76, 13.8, None, 39173.0, 545679.0, None, None, None], ['2007-12-04', 14.55, 14.55, 13.83, 14.07, None, 47294.0, 666899.0, None, None, None], ['2007-12-03', 13.9, 14.43, 13.9, 14.3, None, 115571.0, 1638854.0, None, None, None], ['2007-11-30', 13.56, 14.29, 13.49, 13.9, None, 182560.0, 2538503.0, None, None, None], ['2007-11-29', 13.19, 13.72, 13.19, 13.59, None, 272646.0, 3686352.0, None, None, None], ['2007-11-28', 13.0, 13.17, 12.95, 13.15, None, 153967.0, 2010891.0, None, None, None], ['2007-11-27', 12.99, 13.0, 12.67, 12.91, None, 318080.0, 4096615.0, None, None, None], ['2007-11-26', 12.75, 13.19, 12.75, 13.03, None, 233738.0, 3040312.0, None, None, None], ['2007-11-23', 12.5, 12.7, 12.4, 12.65, None, 216578.0, 2718357.0, None, None, None], ['2007-11-22', 12.81, 12.81, 12.26, 12.51, None, 184544.0, 2310137.0, None, None, None], ['2007-11-21', 13.06, 13.1, 12.69, 12.87, None, 86855.0, 1118034.0, None, None, None], ['2007-11-20', 13.42, 13.8, 12.58, 13.11, None, 213593.0, 2799022.0, None, None, None], ['2007-11-19', 14.15, 14.3, 13.26, 13.32, None, 59162.0, 821203.0, None, None, None], ['2007-11-16', 14.2, 14.38, 14.1, 14.17, None, 98744.0, 1407885.0, None, None, None], ['2007-11-15', 14.6, 14.6, 14.15, 14.21, None, 118945.0, 1711538.0, None, None, None], ['2007-11-14', 14.6, 14.9, 14.51, 14.51, None, 71494.0, 1047970.0, None, None, None], ['2007-11-13', 15.0, 15.0, 14.5, 14.5, None, 73951.0, 1085359.0, None, None, None], ['2007-11-12', 14.8, 14.99, 14.7, 14.87, None, 52524.0, 778896.0, None, None, None], ['2007-11-09', 15.1, 15.1, 14.75, 14.92, None, 67963.0, 1017149.0, None, None, None], ['2007-11-08', 15.2, 15.2, 14.75, 15.11, None, 46020.0, 692677.0, None, None, None], ['2007-11-07', 15.4, 15.62, 15.25, 15.36, None, 51945.0, 802587.0, None, None, None], ['2007-11-06', 15.65, 15.65, 15.41, 15.41, None, 25819.0, 400836.0, None, None, None], ['2007-11-05', 15.07, 15.69, 15.0, 15.61, None, 105881.0, 1640173.0, None, None, None], ['2007-11-02', 14.9, 15.06, 14.84, 14.99, None, 54148.0, 811074.0, None, None, None], ['2007-11-01', 15.0, 15.0, 14.75, 14.89, None, 38407.0, 572630.0, None, None, None], ['2007-10-31', 14.85, 15.03, 14.84, 14.99, None, 117523.0, 1760014.0, None, None, None], ['2007-10-30', 14.9, 15.25, 14.88, 15.0, None, 94596.0, 1427830.0, None, None, None], ['2007-10-29', 15.05, 15.18, 14.8, 14.92, None, 48959.0, 732782.0, None, None, None], ['2007-10-26', 15.19, 15.3, 15.05, 15.2, None, 35098.0, 532621.0, None, None, None], ['2007-10-25', 14.97, 15.15, 14.88, 15.0, None, 49757.0, 747201.0, None, None, None], ['2007-10-24', 15.0, 15.09, 14.85, 14.85, None, 13447.0, 201772.0, None, None, None], ['2007-10-23', 15.25, 15.38, 15.0, 15.0, None, 30654.0, 465643.0, None, None, None], ['2007-10-22', 15.43, 15.45, 15.08, 15.23, None, 47188.0, 720291.0, None, None, None], ['2007-10-19', 15.44, 15.7, 15.36, 15.61, None, 103043.0, 1604757.0, None, None, None], ['2007-10-18', 15.65, 15.95, 15.45, 15.55, None, 98509.0, 1549807.0, None, None, None], ['2007-10-17', 15.06, 15.76, 15.06, 15.65, None, 89756.0, 1378419.0, None, None, None], ['2007-10-16', 15.24, 15.28, 15.03, 15.2, None, 90032.0, 1363857.0, None, None, None], ['2007-10-15', 15.13, 15.23, 15.0, 15.18, None, 37393.0, 565023.0, None, None, None], ['2007-10-12', 14.85, 15.05, 14.8, 14.99, None, 101328.0, 1512741.0, None, None, None], ['2007-10-11', 14.75, 14.9, 14.71, 14.82, None, 49573.0, 735773.0, None, None, None], ['2007-10-10', 15.09, 15.09, 14.66, 14.8, None, 147850.0, 2196986.0, None, None, None], ['2007-10-09', 15.1, 15.23, 14.9, 15.08, None, 100347.0, 1508602.0, None, None, None], ['2007-10-08', 15.2, 15.39, 15.09, 15.12, None, 101278.0, 1536986.0, None, None, None], ['2007-10-05', 15.4, 15.4, 15.09, 15.15, None, 135251.0, 2045856.0, None, None, None], ['2007-10-04', 16.0, 16.0, 15.0, 15.25, None, 183202.0, 2806723.0, None, None, None], ['2007-10-03', 16.13, 16.16, 15.76, 16.0, None, 51165.0, 817778.0, None, None, None], ['2007-10-02', 16.08, 16.15, 15.91, 15.98, None, 92916.0, 1489415.0, None, None, None], ['2007-10-01', 15.5, 16.14, 15.3, 15.88, None, 162826.0, 2561788.0, None, None, None], ['2007-09-28', 15.11, 15.48, 15.11, 15.43, None, 88433.0, 1354710.0, None, None, None], ['2007-09-27', 14.95, 15.2, 14.9, 15.2, None, 174404.0, 2624163.0, None, None, None], ['2007-09-26', 14.81, 15.15, 14.8, 15.0, None, 160698.0, 2415844.0, None, None, None], ['2007-09-25', 14.5, 14.76, 14.5, 14.7, None, 71472.0, 1041207.0, None, None, None], ['2007-09-24', 14.2, 14.62, 14.2, 14.57, None, 88470.0, 1282725.0, None, None, None], ['2007-09-21', 13.7, 14.11, 13.44, 14.11, None, 125425.0, 1717638.0, None, None, None], ['2007-09-20', 13.8, 13.93, 13.66, 13.66, None, 56965.0, 788100.0, None, None, None], ['2007-09-19', 13.39, 14.0, 13.39, 13.81, None, 184090.0, 2537981.0, None, None, None], ['2007-09-18', 13.21, 13.25, 13.07, 13.2, None, 41646.0, 548672.0, None, None, None], ['2007-09-17', 13.6, 13.72, 13.1, 13.13, None, 122789.0, 1637680.0, None, None, None], ['2007-09-14', 13.75, 13.75, 13.6, 13.65, None, 37156.0, 507917.0, None, None, None], ['2007-09-13', 13.95, 14.06, 13.75, 13.75, None, 37038.0, 513210.0, None, None, None], ['2007-09-12', 13.8, 14.06, 13.8, 13.85, None, 67193.0, 935124.0, None, None, None], ['2007-09-11', 13.84, 13.92, 13.71, 13.74, None, 72693.0, 1006407.0, None, None, None], ['2007-09-10', 14.2, 14.2, 13.62, 13.75, None, 75927.0, 1054710.0, None, None, None], ['2007-09-07', 14.28, 14.52, 14.18, 14.25, None, 37805.0, 542556.0, None, None, None], ['2007-09-06', 14.5, 14.5, 14.25, 14.43, None, 21602.0, 309977.0, None, None, None], ['2007-09-05', 14.63, 14.65, 14.33, 14.4, None, 55167.0, 800205.0, None, None, None], ['2007-09-04', 14.95, 14.95, 14.46, 14.6, None, 88137.0, 1293539.0, None, None, None], ['2007-09-03', 14.0, 14.9, 14.0, 14.85, None, 135236.0, 1957303.0, None, None, None], ['2007-08-31', 13.8, 14.02, 13.78, 13.94, None, 36885.0, 512409.0, None, None, None], ['2007-08-30', 13.42, 13.91, 13.42, 13.8, None, 45665.0, 624144.0, None, None, None], ['2007-08-29', 13.39, 13.39, 13.04, 13.32, None, 48444.0, 640163.0, None, None, None], ['2007-08-28', 13.6, 13.6, 13.4, 13.49, None, 37524.0, 505707.0, None, None, None], ['2007-08-27', 13.45, 13.66, 13.35, 13.53, None, 53538.0, 722525.0, None, None, None], ['2007-08-24', 13.55, 13.69, 13.25, 13.39, None, 94458.0, 1270289.0, None, None, None], ['2007-08-23', 14.0, 14.19, 13.56, 13.57, None, 129921.0, 1792183.0, None, None, None], ['2007-08-22', 13.5, 14.0, 13.44, 13.88, None, 93265.0, 1281724.0, None, None, None], ['2007-08-21', 13.99, 13.99, 13.4, 13.5, None, 86427.0, 1184109.0, None, None, None], ['2007-08-20', 14.35, 14.42, 13.84, 13.85, None, 51906.0, 731518.0, None, None, None], ['2007-08-17', 13.21, 15.16, 13.1, 14.2, None, 224680.0, 3127049.0, None, None, None], ['2007-08-16', 14.04, 14.04, 13.34, 13.63, None, 174427.0, 2364795.0, None, None, None], ['2007-08-15', 14.24, 14.25, 14.1, 14.2, None, 23589.0, 334624.0, None, None, None], ['2007-08-14', 14.46, 14.6, 14.15, 14.2, None, 39978.0, 575890.0, None, None, None], ['2007-08-13', 14.31, 14.9, 14.31, 14.57, None, 60050.0, 878731.0, None, None, None], ['2007-08-10', 14.66, 14.68, 14.01, 14.44, None, 97934.0, 1399387.0, None, None, None], ['2007-08-09', 15.0, 15.0, 14.67, 14.81, None, 49295.0, 728415.0, None, None, None], ['2007-08-08', 14.95, 15.02, 14.63, 15.0, None, 79232.0, 1176439.0, None, None, None], ['2007-08-07', 15.34, 15.45, 14.72, 14.95, None, 62181.0, 935990.0, None, None, None], ['2007-08-06', 15.45, 15.5, 15.22, 15.29, None, 21916.0, 337419.0, None, None, None], ['2007-08-03', 15.65, 15.75, 15.38, 15.46, None, 36594.0, 571341.0, None, None, None], ['2007-08-02', 15.25, 15.7, 15.21, 15.6, None, 47348.0, 733156.0, None, None, None], ['2007-08-01', 15.5, 15.5, 15.22, 15.24, None, 13138.0, 200591.0, None, None, None], ['2007-07-31', 15.6, 15.65, 15.36, 15.6, None, 23928.0, 371492.0, None, None, None], ['2007-07-30', 15.1, 15.65, 15.0, 15.59, None, 47496.0, 728557.0, None, None, None], ['2007-07-27', 14.7, 15.32, 14.37, 15.29, None, 94080.0, 1406308.0, None, None, None], ['2007-07-26', 15.43, 15.43, 14.72, 14.73, None, 95748.0, 1428757.0, None, None, None], ['2007-07-25', 15.45, 15.73, 15.12, 15.42, None, 61737.0, 952911.0, None, None, None], ['2007-07-24', 15.5, 15.55, 15.3, 15.3, None, 31697.0, 489572.0, None, None, None], ['2007-07-23', 15.68, 15.73, 15.5, 15.5, None, 49520.0, 770794.0, None, None, None], ['2007-07-20', 15.8, 15.98, 15.54, 15.6, None, 33689.0, 529117.0, None, None, None], ['2007-07-19', 15.8, 16.0, 15.6, 15.86, None, 54840.0, 870131.0, None, None, None], ['2007-07-18', 15.8, 15.81, 15.54, 15.71, None, 28437.0, 446087.0, None, None, None], ['2007-07-17', 15.71, 16.0, 15.69, 16.0, None, 60160.0, 951321.0, None, None, None], ['2007-07-16', 16.0, 16.0, 15.7, 15.85, None, 87048.0, 1378714.0, None, None, None], ['2007-07-13', 16.2, 16.21, 15.75, 15.9, None, 98350.0, 1563907.0, None, None, None], ['2007-07-12', 16.2, 16.22, 15.91, 16.15, None, 36277.0, 582748.0, None, None, None], ['2007-07-11', 15.9, 16.24, 15.78, 16.21, None, 37516.0, 600314.0, None, None, None], ['2007-07-10', 16.3, 16.54, 15.95, 16.0, None, 68266.0, 1105767.0, None, None, None], ['2007-07-09', 16.57, 16.71, 16.4, 16.42, None, 60978.0, 1006974.0, None, None, None], ['2007-07-06', 15.85, 16.7, 15.85, 16.52, None, 61348.0, 996749.0, None, None, None], ['2007-07-05', 15.91, 15.95, 15.85, 15.85, None, 19968.0, 317477.0, None, None, None], ['2007-07-04', 15.9, 15.9, 15.68, 15.9, None, 64182.0, 1014682.0, None, None, None], ['2007-07-03', 15.97, 16.0, 15.81, 15.89, None, 47155.0, 750490.0, None, None, None], ['2007-07-02', 15.91, 16.07, 15.75, 15.94, None, 32036.0, 510343.0, None, None, None], ['2007-06-29', 16.01, 16.07, 15.66, 15.91, None, 58817.0, 931718.0, None, None, None], ['2007-06-28', 15.7, 16.09, 15.7, 16.09, None, 51673.0, 824135.0, None, None, None], ['2007-06-27', 15.6, 15.86, 15.51, 15.57, None, 34818.0, 545939.0, None, None, None], ['2007-06-26', 15.86, 15.86, 15.55, 15.68, None, 34702.0, 544692.0, None, None, None], ['2007-06-25', 16.19, 16.19, 15.75, 15.86, None, 48981.0, 775457.0, None, None, None], ['2007-06-22', 16.28, 16.28, 16.07, 16.2, None, 30799.0, 497703.0, None, None, None], ['2007-06-21', 16.0, 16.27, 15.87, 16.22, None, 45090.0, 723077.0, None, None, None], ['2007-06-20', 16.35, 16.48, 16.01, 16.01, None, 57700.0, 935102.0, None, None, None], ['2007-06-19', 16.2, 16.45, 16.2, 16.25, None, 15848.0, 258228.0, None, None, None], ['2007-06-18', 16.0, 16.45, 16.0, 16.15, None, 55585.0, 906320.0, None, None, None], ['2007-06-15', 15.85, 16.31, 15.85, 16.0, None, 228705.0, 3689444.0, None, None, None], ['2007-06-14', 15.66, 15.92, 15.66, 15.87, None, 113245.0, 1788302.0, None, None, None], ['2007-06-13', 15.45, 15.49, 15.24, 15.45, None, 164293.0, 2529320.0, None, None, None], ['2007-06-12', 15.98, 15.98, 15.27, 15.4, None, 239280.0, 3733942.0, None, None, None], ['2007-06-11', 16.01, 16.24, 15.85, 15.85, None, 64985.0, 1040406.0, None, None, None], ['2007-06-08', 15.9, 16.19, 15.9, 16.14, None, 139994.0, 2241495.0, None, None, None], ['2007-06-07', 16.11, 16.2, 15.9, 15.94, None, 91054.0, 1456947.0, None, None, None], ['2007-06-06', 16.91, 16.91, 15.81, 16.1, None, 207900.0, 3395591.0, None, None, None], ['2007-06-05', 16.6, 16.91, 16.51, 16.91, None, 64428.0, 1073710.0, None, None, None], ['2007-06-04', 16.75, 16.75, 16.4, 16.56, None, 83842.0, 1392463.0, None, None, None], ['2007-06-01', 16.84, 16.99, 16.59, 16.74, None, 78963.0, 1324961.0, None, None, None], ['2007-05-31', 16.44, 17.0, 16.41, 17.0, None, 108092.0, 1813613.0, None, None, None], ['2007-05-30', 16.7, 16.8, 16.25, 16.3, None, 84150.0, 1394004.0, None, None, None], ['2007-05-29', 16.9, 16.91, 16.6, 16.8, None, 116496.0, 1953817.0, None, None, None], ['2007-05-28', None, None, None, 17.04, None, 0.0, None, None, None, 0.0], ['2007-05-25', 17.06, 17.17, 17.0, 17.04, None, 48873.0, 833717.0, None, None, None], ['2007-05-24', 17.05, 17.22, 17.03, 17.06, None, 28702.0, 490395.0, None, None, None], ['2007-05-23', 17.18, 17.29, 17.05, 17.07, None, 32488.0, 557288.0, None, None, None], ['2007-05-22', 17.25, 17.32, 17.03, 17.21, None, 61046.0, 1048784.0, None, None, None], ['2007-05-21', 17.5, 17.5, 17.09, 17.09, None, 93113.0, 1612343.0, None, None, None], ['2007-05-18', 17.3, 17.63, 17.23, 17.63, None, 27108.0, 473840.0, None, None, None], ['2007-05-17', 17.3, 17.48, 17.26, 17.32, None, 27789.0, 482080.0, None, None, None], ['2007-05-16', 17.4, 17.5, 17.3, 17.3, None, 12658.0, 220112.0, None, None, None], ['2007-05-15', 17.4, 17.52, 17.03, 17.52, None, 68568.0, 1184869.0, None, None, None], ['2007-05-14', 17.52, 17.61, 17.4, 17.55, None, 21021.0, 367598.0, None, None, None], ['2007-05-11', 17.41, 17.63, 17.05, 17.62, None, 50870.0, 880159.0, None, None, None], ['2007-05-10', 17.85, 17.9, 17.5, 17.63, None, 72959.0, 1287268.0, None, None, None], ['2007-05-09', 17.76, 17.99, 17.65, 17.99, None, 57082.0, 1020188.0, None, None, None], ['2007-05-08', 17.91, 17.96, 17.17, 17.6, None, 118760.0, 2090223.0, None, None, None], ['2007-05-07', 17.85, 18.05, 17.75, 18.05, None, 30091.0, 539557.0, None, None, None], ['2007-05-04', 17.62, 17.89, 17.55, 17.85, None, 56747.0, 1007735.0, None, None, None], ['2007-05-03', 17.94, 17.98, 17.65, 17.78, None, 49785.0, 884164.0, None, None, None], ['2007-05-02', 18.05, 18.05, 17.8, 18.0, None, 60314.0, 1081055.0, None, None, None], ['2007-05-01', None, None, None, 18.03, None, 0.0, None, None, None, 0.0], ['2007-04-30', 18.29, 18.3, 17.95, 18.03, None, 57788.0, 1044121.0, None, None, None], ['2007-04-27', 18.27, 18.44, 18.07, 18.2, None, 27199.0, 497372.0, None, None, None], ['2007-04-26', 18.1, 18.47, 18.1, 18.44, None, 43937.0, 807816.0, None, None, None], ['2007-04-25', 18.05, 18.21, 17.86, 18.21, None, 71578.0, 1290480.0, None, None, None], ['2007-04-24', 17.82, 18.38, 17.82, 18.05, None, 78224.0, 1408430.0, None, None, None], ['2007-04-23', 18.0, 18.3, 17.9, 17.9, None, 66162.0, 1194696.0, None, None, None], ['2007-04-20', 17.95, 18.11, 17.85, 18.06, None, 66204.0, 1190127.0, None, None, None], ['2007-04-19', 17.9, 18.0, 17.84, 17.95, None, 66005.0, 1182652.0, None, None, None], ['2007-04-18', 18.15, 18.97, 17.95, 18.08, None, 130928.0, 2409373.0, None, None, None], ['2007-04-17', 17.72, 18.3, 17.51, 18.15, None, 101058.0, 1813253.0, None, None, None], ['2007-04-16', 17.7, 18.05, 17.7, 17.87, None, 92069.0, 1648069.0, None, None, None], ['2007-04-13', 17.31, 17.79, 17.27, 17.75, None, 69047.0, 1205608.0, None, None, None], ['2007-04-12', 16.95, 17.78, 16.95, 17.4, None, 121483.0, 2121840.0, None, None, None], ['2007-04-11', 16.81, 16.95, 16.81, 16.92, None, 101238.0, 1709908.0, None, None, None], ['2007-04-10', 16.84, 16.84, 16.71, 16.8, None, 78479.0, 1318478.0, None, None, None], ['2007-04-09', None, None, None, 16.78, None, 0.0, None, None, None, 0.0], ['2007-04-06', None, None, None, 16.78, None, 0.0, None, None, None, 0.0], ['2007-04-05', 16.5, 16.91, 16.5, 16.78, None, 219009.0, 3659987.0, None, None, None], ['2007-04-04', 16.67, 16.67, 16.48, 16.6, None, 136531.0, 2258442.0, None, None, None], ['2007-04-03', 16.43, 16.64, 16.35, 16.63, None, 48925.0, 807903.0, None, None, None], ['2007-04-02', 16.25, 16.54, 16.21, 16.54, None, 92191.0, 1507996.0, None, None, None], ['2007-03-30', 16.52, 16.52, 16.16, 16.25, None, 33575.0, 546635.0, None, None, None], ['2007-03-29', 16.06, 16.5, 16.0, 16.45, None, 43678.0, 712541.0, None, None, None], ['2007-03-28', 16.38, 16.38, 16.05, 16.15, None, 35428.0, 573364.0, None, None, None], ['2007-03-27', 16.39, 16.47, 16.2, 16.3, None, 69237.0, 1131412.0, None, None, None], ['2007-03-26', 16.7, 16.74, 16.07, 16.11, None, 60692.0, 994274.0, None, None, None], ['2007-03-23', 17.04, 17.04, 16.58, 16.65, None, 32390.0, 541675.0, None, None, None], ['2007-03-22', 17.0, 17.24, 16.8, 17.0, None, 70550.0, 1199326.0, None, None, None], ['2007-03-21', 16.86, 17.25, 16.85, 17.0, None, 27954.0, 477937.0, None, None, None], ['2007-03-20', 16.9, 17.0, 16.79, 17.0, None, 32737.0, 554402.0, None, None, None], ['2007-03-19', 16.6, 16.9, 16.6, 16.9, None, 11374.0, 190710.0, None, None, None], ['2007-03-16', 16.97, 16.97, 16.54, 16.72, None, 122729.0, 2039033.0, None, None, None], ['2007-03-15', 17.01, 17.11, 16.61, 16.93, None, 95356.0, 1612200.0, None, None, None], ['2007-03-14', 17.02, 17.02, 16.4, 16.55, None, 136441.0, 2274044.0, None, None, None], ['2007-03-13', 17.9, 17.9, 17.5, 17.5, None, 95917.0, 1685697.0, None, None, None], ['2007-03-12', 17.53, 18.05, 17.53, 17.9, None, 98604.0, 1762850.0, None, None, None], ['2007-03-09', 18.37, 18.37, 17.5, 17.65, None, 97819.0, 1728301.0, None, None, None], ['2007-03-08', 17.65, 18.32, 17.61, 18.3, None, 159773.0, 2875438.0, None, None, None], ['2007-03-07', 17.39, 17.65, 17.26, 17.65, None, 121976.0, 2129530.0, None, None, None], ['2007-03-06', 16.8, 17.5, 16.76, 17.15, None, 292400.0, 4982928.0, None, None, None], ['2007-03-05', 17.0, 17.24, 15.98, 16.5, None, 287862.0, 4757694.0, None, None, None], ['2007-03-02', 17.27, 17.8, 16.89, 17.39, None, 510967.0, 8848395.0, None, None, None], ['2007-03-01', 16.88, 17.15, 16.45, 16.77, None, 157768.0, 2652476.0, None, None, None], ['2007-02-28', 15.92, 17.3, 14.4, 17.3, None, 239790.0, 3814411.0, None, None, None], ['2007-02-27', 17.4, 17.48, 16.61, 16.8, None, 189507.0, 3233968.0, None, None, None], ['2007-02-26', 17.47, 17.69, 17.25, 17.37, None, 45947.0, 799839.0, None, None, None], ['2007-02-23', 17.54, 17.78, 17.52, 17.6, None, 13888.0, 244952.0, None, None, None], ['2007-02-22', 17.6, 17.7, 17.5, 17.54, None, 49945.0, 876972.0, None, None, None], ['2007-02-21', 17.6, 17.7, 17.51, 17.51, None, 28497.0, 500843.0, None, None, None], ['2007-02-20', 17.5, 17.65, 17.5, 17.5, None, 33570.0, 589479.0, None, None, None], ['2007-02-19', 17.42, 17.65, 17.42, 17.55, None, 53311.0, 935523.0, None, None, None], ['2007-02-16', 17.51, 17.57, 17.35, 17.5, None, 101199.0, 1768535.0, None, None, None], ['2007-02-15', 17.4, 17.8, 17.35, 17.59, None, 144066.0, 2538400.0, None, None, None], ['2007-02-14', 17.18, 17.69, 17.18, 17.49, None, 496317.0, 8621032.0, None, None, None], ['2007-02-13', 17.34, 17.4, 16.75, 17.05, None, 111869.0, 1899328.0, None, None, None], ['2007-02-12', 16.9, 17.45, 16.85, 17.25, None, 158923.0, 2702592.0, None, None, None], ['2007-02-09', 16.66, 17.01, 16.66, 17.0, None, 77719.0, 1311505.0, None, None, None], ['2007-02-08', 16.95, 16.95, 16.62, 16.82, None, 71989.0, 1203686.0, None, None, None], ['2007-02-07', 16.75, 16.98, 16.75, 16.98, None, 173164.0, 2910473.0, None, None, None], ['2007-02-06', 16.8, 16.84, 16.62, 16.8, None, 32541.0, 543991.0, None, None, None], ['2007-02-05', 16.6, 16.8, 16.55, 16.7, None, 23970.0, 399154.0, None, None, None], ['2007-02-02', 16.81, 16.9, 16.67, 16.78, None, 63633.0, 1070987.0, None, None, None], ['2007-02-01', 16.8, 16.95, 16.67, 16.95, None, 90793.0, 1526956.0, None, None, None], ['2007-01-31', 16.6, 16.93, 16.56, 16.8, None, 61081.0, 1023057.0, None, None, None], ['2007-01-30', 16.46, 16.69, 16.45, 16.5, None, 40388.0, 668913.0, None, None, None], ['2007-01-29', 16.2, 16.44, 16.14, 16.4, None, 61441.0, 1003635.0, None, None, None], ['2007-01-26', 16.5, 16.7, 16.3, 16.3, None, 46250.0, 761032.0, None, None, None], ['2007-01-25', 16.99, 16.99, 16.72, 16.88, None, 36826.0, 622286.0, None, None, None], ['2007-01-24', 16.6, 17.08, 16.2, 16.91, None, 101306.0, 1684932.0, None, None, None], ['2007-01-23', 16.7, 16.7, 16.4, 16.66, None, 38244.0, 633852.0, None, None, None], ['2007-01-22', 16.21, 16.8, 16.21, 16.67, None, 84352.0, 1401466.0, None, None, None], ['2007-01-19', 16.59, 16.75, 16.15, 16.25, None, 59854.0, 984101.0, None, None, None], ['2007-01-18', 16.67, 16.8, 16.6, 16.75, None, 32214.0, 538691.0, None, None, None], ['2007-01-17', 16.89, 16.95, 16.5, 16.81, None, 57477.0, 962916.0, None, None, None], ['2007-01-16', 16.4, 16.9, 15.75, 16.89, None, 144069.0, 2365601.0, None, None, None], ['2007-01-15', 16.73, 16.85, 16.43, 16.54, None, 68541.0, 1141847.0, None, None, None], ['2007-01-12', 17.0, 17.0, 16.58, 16.83, None, 119917.0, 2004778.0, None, None, None], ['2007-01-11', 16.79, 17.08, 16.79, 17.04, None, 206426.0, 3497526.0, None, None, None], ['2007-01-10', 16.6, 16.79, 16.5, 16.76, None, 121690.0, 2030856.0, None, None, None], ['2007-01-09', 16.24, 16.8, 16.2, 16.78, None, 84469.0, 1393491.0, None, None, None], ['2007-01-08', 16.1, 16.24, 15.96, 16.2, None, 18491.0, 297841.0, None, None, None], ['2007-01-05', 16.0, 16.12, 15.8, 16.1, None, 88627.0, 1410357.0, None, None, None], ['2007-01-04', 16.25, 16.36, 15.91, 16.15, None, 42859.0, 689922.0, None, None, None], ['2007-01-03', 16.5, 16.65, 16.28, 16.33, None, 57386.0, 944194.0, None, None, None], ['2007-01-02', 15.89, 16.4, 15.89, 16.4, None, 74388.0, 1197423.0, None, None, None], ['2007-01-01', None, None, None, 15.8, None, 0.0, None, None, None, 0.0]]\n"
     ]
    }
   ],
   "source": [
    "#3C: We can then check the 'data' key to see that the data itself resembles a list of lists\n",
    "print(json_data['dataset']['data'])"
   ]
  },
  {
   "cell_type": "code",
   "execution_count": 11,
   "metadata": {},
   "outputs": [],
   "source": [
    "#3D: We can probably make a list of all the opening prices usinga for loop\n",
    "#that will allow us to use the max and min functions. In addition, we can drop the 'None' entries\n",
    "\n",
    "OpeningPrices2007List =[]\n",
    "\n",
    "for entry in json_data['dataset']['data']:\n",
    "    if (entry[1] != None):\n",
    "        OpeningPrices2007List.append(entry[1])\n",
    "\n",
    "#print(OpeningPrices2007List)"
   ]
  },
  {
   "cell_type": "code",
   "execution_count": 12,
   "metadata": {},
   "outputs": [
    {
     "name": "stdout",
     "output_type": "stream",
     "text": [
      "The maximum opening price was: 18.37 and the minimum opening price was 11.32\n"
     ]
    }
   ],
   "source": [
    "#3E: Now we can pull out the max and min values in the list\n",
    "\n",
    "Max_OpenPrice2007 = max(OpeningPrices2007List)\n",
    "Min_OpenPrice2007 = min(OpeningPrices2007List)\n",
    "\n",
    "print('The maximum opening price was: ' + str(Max_OpenPrice2007) + ' and the minimum opening price was ' +  str(Min_OpenPrice2007))"
   ]
  },
  {
   "cell_type": "code",
   "execution_count": 13,
   "metadata": {},
   "outputs": [],
   "source": [
    "#3 Answer!: We know the maximum opening price in 2007 was 18.37 and the minimum opening price was 11.32 in 2007"
   ]
  },
  {
   "cell_type": "code",
   "execution_count": 14,
   "metadata": {},
   "outputs": [
    {
     "name": "stdout",
     "output_type": "stream",
     "text": [
      "['Date', 'Open', 'High', 'Low', 'Close', 'Change', 'Traded Volume', 'Turnover', 'Last Price of the Day', 'Daily Traded Units', 'Daily Turnover']\n"
     ]
    }
   ],
   "source": [
    "#4: What was the largest change in any one day (based on High and Low price)?\n",
    "\n",
    "#4A: So for this, we would need to know the absolute value of changes that occurred each day between the high\n",
    "#and low prices. First, we can see that High and Low are in slots 2 and 3 respectively\n",
    "\n",
    "print(json_data['dataset']['column_names'])"
   ]
  },
  {
   "cell_type": "code",
   "execution_count": 15,
   "metadata": {},
   "outputs": [
    {
     "name": "stdout",
     "output_type": "stream",
     "text": [
      "2.9000000000000004\n"
     ]
    }
   ],
   "source": [
    "#Therefore we can make a list of the absolute values of the changes between the two \n",
    "# and then apply the maximum function. Since it's High versus Low, we don't need to worry about the sign (always +)\n",
    "\n",
    "HighLowChange2007List =[]\n",
    "\n",
    "for entry in json_data['dataset']['data']:\n",
    "    if (entry[1] != None):\n",
    "        HighLowChange2007List.append(entry[2] - entry[3])\n",
    "\n",
    "#print(HighLowChange2007List)\n",
    "\n",
    "Max_HighLowChange2007 = max(HighLowChange2007List)\n",
    "print(Max_HighLowChange2007)"
   ]
  },
  {
   "cell_type": "code",
   "execution_count": 16,
   "metadata": {},
   "outputs": [],
   "source": [
    "#4 answer!: We find that the biggest change between a high and low price in a single day is ~2.9 in 2007"
   ]
  },
  {
   "cell_type": "code",
   "execution_count": 17,
   "metadata": {},
   "outputs": [
    {
     "name": "stdout",
     "output_type": "stream",
     "text": [
      "[11.95, 11.95, 11.94, 12.13, 12.13, 12.13, 12.13, 11.64, 11.28, 11.69, 11.79, 12.21, 12.47, 13.49, 13.89, 13.7, 14.3, 13.61, 13.8, 14.07, 14.3, 13.9, 13.59, 13.15, 12.91, 13.03, 12.65, 12.51, 12.87, 13.11, 13.32, 14.17, 14.21, 14.51, 14.5, 14.87, 14.92, 15.11, 15.36, 15.41, 15.61, 14.99, 14.89, 14.99, 15.0, 14.92, 15.2, 15.0, 14.85, 15.0, 15.23, 15.61, 15.55, 15.65, 15.2, 15.18, 14.99, 14.82, 14.8, 15.08, 15.12, 15.15, 15.25, 16.0, 15.98, 15.88, 15.43, 15.2, 15.0, 14.7, 14.57, 14.11, 13.66, 13.81, 13.2, 13.13, 13.65, 13.75, 13.85, 13.74, 13.75, 14.25, 14.43, 14.4, 14.6, 14.85, 13.94, 13.8, 13.32, 13.49, 13.53, 13.39, 13.57, 13.88, 13.5, 13.85, 14.2, 13.63, 14.2, 14.2, 14.57, 14.44, 14.81, 15.0, 14.95, 15.29, 15.46, 15.6, 15.24, 15.6, 15.59, 15.29, 14.73, 15.42, 15.3, 15.5, 15.6, 15.86, 15.71, 16.0, 15.85, 15.9, 16.15, 16.21, 16.0, 16.42, 16.52, 15.85, 15.9, 15.89, 15.94, 15.91, 16.09, 15.57, 15.68, 15.86, 16.2, 16.22, 16.01, 16.25, 16.15, 16.0, 15.87, 15.45, 15.4, 15.85, 16.14, 15.94, 16.1, 16.91, 16.56, 16.74, 17.0, 16.3, 16.8, 17.04, 17.04, 17.06, 17.07, 17.21, 17.09, 17.63, 17.32, 17.3, 17.52, 17.55, 17.62, 17.63, 17.99, 17.6, 18.05, 17.85, 17.78, 18.0, 18.03, 18.03, 18.2, 18.44, 18.21, 18.05, 17.9, 18.06, 17.95, 18.08, 18.15, 17.87, 17.75, 17.4, 16.92, 16.8, 16.78, 16.78, 16.78, 16.6, 16.63, 16.54, 16.25, 16.45, 16.15, 16.3, 16.11, 16.65, 17.0, 17.0, 17.0, 16.9, 16.72, 16.93, 16.55, 17.5, 17.9, 17.65, 18.3, 17.65, 17.15, 16.5, 17.39, 16.77, 17.3, 16.8, 17.37, 17.6, 17.54, 17.51, 17.5, 17.55, 17.5, 17.59, 17.49, 17.05, 17.25, 17.0, 16.82, 16.98, 16.8, 16.7, 16.78, 16.95, 16.8, 16.5, 16.4, 16.3, 16.88, 16.91, 16.66, 16.67, 16.25, 16.75, 16.81, 16.89, 16.54, 16.83, 17.04, 16.76, 16.78, 16.2, 16.1, 16.15, 16.33, 16.4, 15.8]\n"
     ]
    }
   ],
   "source": [
    "# 5: What was the largest change between any two days (based on Closing Price)?\n",
    "\n",
    "#5A: So for this one we have to consider what the closing price was between two dates and then get the difference.\n",
    "#From the above example, we can see the 'Close' of an entry is in slot 5.\n",
    "\n",
    "#First, let's make a list of the closings (we notice that on days with no trading, the close actually\n",
    "#remains the same)\n",
    "\n",
    "ClosingPrice2007List = []\n",
    "for entry in json_data['dataset']['data']:\n",
    "    if (entry[4] != None):\n",
    "        ClosingPrice2007List.append(entry[4])\n",
    "        \n",
    "print(ClosingPrice2007List)"
   ]
  },
  {
   "cell_type": "code",
   "execution_count": 18,
   "metadata": {},
   "outputs": [
    {
     "name": "stdout",
     "output_type": "stream",
     "text": [
      "The largest change in closing price in terms of absolute value in 2007 was: 1.0199999999999996\n"
     ]
    }
   ],
   "source": [
    "#5B: From here, we will make a new list that will be n-1 less than the list above since it will be based on change.\n",
    "#print(len(ClosingPrice2007List))\n",
    "\n",
    "ClosingPriceChange2007List = []\n",
    "DayAhead = None\n",
    "\n",
    "for Cprice in ClosingPrice2007List:\n",
    "    if DayAhead != None:\n",
    "        ClosingPriceChange2007List.append(abs(DayAhead - Cprice))\n",
    "        DayAhead = Cprice\n",
    "    else:\n",
    "        DayAhead = Cprice\n",
    "\n",
    "#print(len(ClosingPriceChange2007List))\n",
    "#print(ClosingPriceChange2007List)\n",
    "\n",
    "Max_ClosingPriceChange = max(ClosingPriceChange2007List)\n",
    "\n",
    "print('The largest change in closing price in terms of absolute value in 2007 was: ' + str(Max_ClosingPriceChange))"
   ]
  },
  {
   "cell_type": "code",
   "execution_count": 19,
   "metadata": {},
   "outputs": [],
   "source": [
    "#5 Answer! The largest change in Closing Price was ~ 1.012 in the year of 2007"
   ]
  },
  {
   "cell_type": "code",
   "execution_count": 20,
   "metadata": {},
   "outputs": [
    {
     "name": "stdout",
     "output_type": "stream",
     "text": [
      "['Date', 'Open', 'High', 'Low', 'Close', 'Change', 'Traded Volume', 'Turnover', 'Last Price of the Day', 'Daily Traded Units', 'Daily Turnover']\n"
     ]
    }
   ],
   "source": [
    "#6: What was the average daily trading volume during this year?\n",
    "\n",
    "#6A: So for this problem, we want to first see where the information for daily trading volume would be\n",
    "\n",
    "print(json_data['dataset']['column_names'])"
   ]
  },
  {
   "cell_type": "code",
   "execution_count": 21,
   "metadata": {},
   "outputs": [
    {
     "name": "stdout",
     "output_type": "stream",
     "text": [
      "98578.23809523809\n"
     ]
    }
   ],
   "source": [
    "#6B: We identify 'Traded Volume' in the 7th slot as the variable of interest to answer this question. We\n",
    "#can use a for loop to aggreate the information in a list. In addition, we'll check if the 'open' was None to\n",
    "#avoid having days where there was no market trading (e.g, 2007-12-31) from artificially deflating the number\n",
    "#we can also make the trading volumes integers since you cannot partially trade stocks\n",
    "\n",
    "DailyTrading2007List =[]\n",
    "\n",
    "for entry in json_data['dataset']['data']:\n",
    "    if (entry[1] != None):\n",
    "        DailyTrading2007List.append(int(entry[6]))\n",
    "        \n",
    "#print(DailyTrading2007List)\n",
    "\n",
    "AverageTrading2007 = (sum(DailyTrading2007List)) / (len(DailyTrading2007List))\n",
    "print(AverageTrading2007)"
   ]
  },
  {
   "cell_type": "code",
   "execution_count": 22,
   "metadata": {},
   "outputs": [],
   "source": [
    "#6 Answer! We find that the average amount of stocks traded in a day in 2007 is ~98,578 stocks!"
   ]
  },
  {
   "cell_type": "markdown",
   "metadata": {},
   "source": [
    "Alright! - I think we've answered all the questions! Thanks for the really fun exercise as I really enjoyed it!"
   ]
  }
 ],
 "metadata": {
  "interpreter": {
   "hash": "7635eb1b9d0fe97add78a7368b6b431c09bb8ad5c42e437d64abdd99821c31ae"
  },
  "kernelspec": {
   "display_name": "Python 3 (ipykernel)",
   "language": "python",
   "name": "python3"
  },
  "language_info": {
   "codemirror_mode": {
    "name": "ipython",
    "version": 3
   },
   "file_extension": ".py",
   "mimetype": "text/x-python",
   "name": "python",
   "nbconvert_exporter": "python",
   "pygments_lexer": "ipython3",
   "version": "3.9.7"
  }
 },
 "nbformat": 4,
 "nbformat_minor": 4
}
